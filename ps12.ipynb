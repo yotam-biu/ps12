{
  "nbformat": 4,
  "nbformat_minor": 0,
  "metadata": {
    "colab": {
      "provenance": [],
      "authorship_tag": "ABX9TyPc3Jbr/D3o+aBYgZoqrPGH",
      "include_colab_link": true
    },
    "kernelspec": {
      "name": "python3",
      "display_name": "Python 3"
    },
    "language_info": {
      "name": "python"
    }
  },
  "cells": [
    {
      "cell_type": "markdown",
      "metadata": {
        "id": "view-in-github",
        "colab_type": "text"
      },
      "source": [
        "<a href=\"https://colab.research.google.com/github/yotam-biu/ps12/blob/main/ps12.ipynb\" target=\"_parent\"><img src=\"https://colab.research.google.com/assets/colab-badge.svg\" alt=\"Open In Colab\"/></a>"
      ]
    },
    {
      "cell_type": "code",
      "execution_count": null,
      "metadata": {
        "id": "getRIELv4pg9"
      },
      "outputs": [],
      "source": [
        "%load_ext autoreload\n",
        "%autoreload 2\n",
        "\n",
        "!wget https://raw.githubusercontent.com/yotam-biu/ps12/main/image_utils.py -O /content/image_utils.py"
      ]
    },
    {
      "cell_type": "code",
      "source": [
        "from image_utils import load_image, edge_detection\n",
        "from PIL import Image\n",
        "from skimage.filters import median\n",
        "from skimage.morphology import ball"
      ],
      "metadata": {
        "id": "nJjWEOir43gu"
      },
      "execution_count": null,
      "outputs": []
    },
    {
      "cell_type": "markdown",
      "source": [
        "## Step 1: Load the image"
      ],
      "metadata": {
        "id": "hcbTvmEZLamq"
      }
    },
    {
      "cell_type": "markdown",
      "source": [
        "\n",
        "\n",
        "1. Write a function named `load_image` that accepts the file path of a color image as input.  \n",
        "   - The function should read the image and convert it into an `np.array` (NumPy array).  \n",
        "   - The function should return the resulting array.\n",
        "\n",
        "2. Test your function:\n",
        "   - Use the `load_image` function to load a color image from your computer. You can choose any color image file you have.  \n",
        "   - Verify that the function works correctly and the output is as expected.\n"
      ],
      "metadata": {
        "id": "-nxD83o3E2yB"
      }
    },
    {
      "cell_type": "code",
      "source": [],
      "metadata": {
        "id": "_7_oa1WvE1RO"
      },
      "execution_count": null,
      "outputs": []
    },
    {
      "cell_type": "markdown",
      "source": [
        "## Step 2: Edge Detection\n"
      ],
      "metadata": {
        "id": "bUcqfgISLU-3"
      }
    },
    {
      "cell_type": "markdown",
      "source": [
        "\n",
        "1. Write a function named `edge_detection` that performs edge detection on an image array (produced by the `load_image` function). Follow these steps:\n",
        "\n",
        "   - Convert the 3-channel color image array into a grayscale image with a single channel by averaging the values of the three color channels for each pixel.\n",
        "   \n",
        "   - Create a filter to detect vertical changes in pixel values. The filter shold represented as an `np.array` matrix:\n",
        "   $$\n",
        "     \\text{kernelY} =\n",
        "     \\begin{bmatrix}\n",
        "      1 &  2 &  1 \\\\\n",
        "      0 &  0 &  0 \\\\\n",
        "     -1 & -2 & -1\n",
        "     \\end{bmatrix}\n",
        "   $$\n",
        "   - Create a filter to detect horizontal changes in pixel values. The filter shold represented as an `np.array` matrix:\n",
        "   $$\n",
        "     \\text{kernelX} =\n",
        "     \\begin{bmatrix}\n",
        "     -1 & 0 & 1 \\\\\n",
        "     -2 & 0 & 2 \\\\\n",
        "     -1 & 0 & 1\n",
        "     \\end{bmatrix}\n",
        "  $$\n",
        "\n",
        "   - Apply each filter to the grayscale image using the `convolve2D` function from `scipy.ndimage`. Ensure the convolution uses zero padding. The output arrays should have the same height and width as the original image.You can refer to the documentation for the function:  \n",
        "   [scipy.signal.convolve2d Documentation](https://docs.scipy.org/doc/scipy/reference/generated/scipy.signal.convolve2d.html)\n",
        "   The convolution results should produce two new arrays: `edgeX` for horizontal edges and `edgeY` for vertical edges.\n",
        "\n",
        "   - Compute a new array that combines the edges in both directions using the formula:\n",
        "     $$\n",
        "     \\text{edgeMAG} = \\sqrt{\\text{edgeX}^2 + \\text{edgeY}^2}\n",
        "     $$\n",
        "\n",
        "   - Return the `edgeMAG` array as the result of the function.\n",
        "\n",
        "2. Test your function:\n",
        "   - Use the `edge_detection` function with the image array obtained from the `load_image` function.\n",
        "   - Verify that the result correctly emphasizes the edges in the image.\n"
      ],
      "metadata": {
        "id": "G_NDoCn9E3P0"
      }
    },
    {
      "cell_type": "code",
      "source": [],
      "metadata": {
        "id": "BIW5lRMMJMCQ"
      },
      "execution_count": null,
      "outputs": []
    },
    {
      "cell_type": "markdown",
      "source": [
        "## Step 3: `image_utils.py`"
      ],
      "metadata": {
        "id": "Xt8kQ6-yLR8l"
      }
    },
    {
      "cell_type": "markdown",
      "source": [
        "\n",
        "\n",
        "\n",
        "Move the functions you have written (`load_image` and `edge_detection') into a new file named `image_utils.py`."
      ],
      "metadata": {
        "id": "5vzsNf0BIQsW"
      }
    },
    {
      "cell_type": "markdown",
      "source": [
        "## Step 4: Main Code"
      ],
      "metadata": {
        "id": "j_w7zBt4LNm7"
      }
    },
    {
      "cell_type": "markdown",
      "source": [
        "\n",
        "\n",
        "1. Use the `load_image` function you wrote to load a color image from your computer.  You can choose any color image file you have.\n",
        "   - Use `import` to import the function from the `image_utils.py` file.\n",
        "\n",
        "2. Suppress noise in the edge-detected image using a median filter. For example:  \n",
        "   ```python\n",
        "   from skimage.filters import median\n",
        "   from skimage.morphology import ball\n",
        "\n",
        "   clean_image = median(image, ball(3))\n",
        "   ```\n",
        "\n",
        "  * You can experiment with the filter value (3) by changing it to another value and display the masked image to observe the effects.\n",
        "\n",
        "3. Run the noise-free image (`clean_image`) through the `edge_detection` function you wrote.  \n",
        "   - This will produce the `edgeMAG` array from the function.\n",
        "\n",
        "4. Convert the resulting `edgeMAG` array into a binary array (values of 0 and 1, or `True` and `False`) by choosing a threshold value.  \n",
        "   - To choose the threshold value, it is recommended to look at the histogram of the image, as demonstrated in the practice session.\n",
        "\n",
        "5. Display the binary image and save it as `.png` file for later use.  \n",
        "   - Use an appropriate library such as `matplotlib.pyplot` or `PIL` for visualization and saving.\n",
        "   ```python\n",
        "    from PIL import Image\n",
        "\n",
        "    edge_image = Image.fromarray(edge_binary)\n",
        "    edge_image.save('my_edges.png')\n",
        "   ```\n",
        "\n"
      ],
      "metadata": {
        "id": "FTC_utQkJMaF"
      }
    },
    {
      "cell_type": "code",
      "source": [],
      "metadata": {
        "id": "cIMB1jIsEwPI"
      },
      "execution_count": null,
      "outputs": []
    },
    {
      "cell_type": "markdown",
      "source": [
        "## Step 5: Load to GitHub"
      ],
      "metadata": {
        "id": "jLYcb38TLIKT"
      }
    },
    {
      "cell_type": "markdown",
      "source": [
        "1. Upload both the original image and the edge-detected image you created to your GitHub repository.\n",
        "\n",
        "2. Update the functions `load_image` and `edge_detection` in the `image_utils.py` file located in your GitHub repository.\n",
        "\n",
        "3. Create or update a file named `main.py` in your GitHub repository to include the steps you performed to generate the edge-detected image.  \n",
        "   - The `main.py` file should:\n",
        "     - Load the original image using `load_image`.\n",
        "     - Perform noise suppression on the image.\n",
        "     - Detect edges using `edge_detection`.\n",
        "     - Save the resulting edge-detected image."
      ],
      "metadata": {
        "id": "HLwFe_A_K38s"
      }
    }
  ]
}